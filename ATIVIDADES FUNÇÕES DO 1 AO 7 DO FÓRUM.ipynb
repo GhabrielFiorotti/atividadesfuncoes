{
  "cells": [
    {
      "metadata": {
        "collapsed": true
      },
      "cell_type": "markdown",
      "source": "### Exercícios lista do fórum"
    },
    {
      "metadata": {
        "trusted": true
      },
      "cell_type": "code",
      "source": "# EXERCÍCIO 1\n\ndef soma (x,y):\n    return x + y\ndef main():\n    n = int(input(\"N:\"))\n    n2 = int(input(\"N2:\"))\n    print(soma(n,n2))\n    \nmain()",
      "execution_count": null,
      "outputs": []
    },
    {
      "metadata": {
        "trusted": true
      },
      "cell_type": "code",
      "source": "# Exercício 2\n\ndef maiordetres (lista):\n    maior = lista[0]\n    for x in range (len (lista)):\n        if lista [x] > maior:\n            maior = lista[x]\n    return maior\n\ndef main():\n    l = []\n    n = int(input(\"N:\"))\n    n2 = int(input(\"N2:\"))\n    n3 = int(input(\"N3:\"))\n    l.append(n)\n    l.append(n2)\n    l.append(n3)\n    print(maiordetres(l))\n\nmain()",
      "execution_count": null,
      "outputs": []
    },
    {
      "metadata": {
        "trusted": true
      },
      "cell_type": "code",
      "source": "# Exercício 3\n\ndef par (x):\n    if x % 2 == 0:\n        print(\"Par\")\n    else:\n        print(\"[Ímpar]\")\n        \ndef main():\n    n = int(input(\"N:\"))\n    print(par(n))\n\nmain()",
      "execution_count": null,
      "outputs": []
    },
    {
      "metadata": {
        "trusted": true
      },
      "cell_type": "code",
      "source": "# Exercício 4\n\ndef vogal (letra):\n    if letra == \"A\" or letra == \"E\" or letra == \"I\" or letra == \"O\" or letra == \"U\":\n        print(\"Vogal\")\n    else:\n        print(\"Consoante\")\n        \ndef main():\n    l = input(\"Letra: \").upper()\n    print(vogal(l))\n    \nmain()",
      "execution_count": null,
      "outputs": []
    },
    {
      "metadata": {
        "trusted": true
      },
      "cell_type": "code",
      "source": "# Exercício 5\n\ndef letraounumero(x):\n    res = 'É um número'\n    alfab = ['A', 'B', 'C', 'D', 'E', 'F', 'G', 'H', 'I', 'J','K','L','M','N','O','P','Q', 'R', 'S', 'T','U','V', 'X','W', 'Y', 'Z']\n    for y in alfab:\n        if x == y:\n            res = 'É uma letra'\n    return res   \ndef main():\n    l = (input(\"Caractere: \")).upper()\n    print(letraounumero(l))\n    \nmain()",
      "execution_count": null,
      "outputs": []
    },
    {
      "metadata": {
        "trusted": true
      },
      "cell_type": "code",
      "source": "# Exercício 6\n\ndef horario (x):\n    if x >= 0 and x < 12:\n        print(\"Bom dia!\")\n    \n    elif x >= 12 and x < 18:\n        print(\"Boa tarde!\")\n    else:\n        print(\"Boa noite!\")\n        \ndef main():\n    hora = int(input(\"Digite a hora: \"))\n    print(horario(hora))\n    \nmain()",
      "execution_count": null,
      "outputs": []
    },
    {
      "metadata": {
        "trusted": true
      },
      "cell_type": "code",
      "source": "# Exercício 7\n\ndef maiorPalavra(lista):\n    maior = lista[0]\n    \n    for x in range (len(lista)):\n        if len(lista[x]) > len (maior):\n            maior = lista[x]\n    return maior\n\ndef main():\n    palavras = []\n    \n    palavra1 = (input(\"Digite a palavra 1: \"))\n    palavra2 = (input(\"Digite a palavra 2: \"))\n    palavra3 = (input(\"Digite a palavra 3: \"))\n    \n    palavras.append(palavra1)\n    palavras.append(palavra2)\n    palavras.append(palavra3)\n    \n    print(maiorPalavra(palavras))\n    \nmain()",
      "execution_count": null,
      "outputs": []
    }
  ],
  "metadata": {
    "kernelspec": {
      "name": "python36",
      "display_name": "Python 3.6",
      "language": "python"
    },
    "language_info": {
      "mimetype": "text/ x - python",
      "nbconvert_exporter": "python",
      "version": "3.6.0",
      "name": "python",
      "file_extension": ".py",
      "pygments_lexer": "ipython2",
      "codemirror_mode": {
        "version": 2,
        "name": "ipython"
      }
    }
  },
  "nbformat": 4,
  "nbformat_minor": 2
}